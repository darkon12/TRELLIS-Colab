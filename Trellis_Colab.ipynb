{
  "cells": [
    {
      "cell_type": "code",
      "source": [
        "!apt --allow-change-held-packages --purge remove *cuda* *cublas* *cufft* *cufile* *curand* *cusolver* *cusparse* *gds-tools* *npp* *nvjpeg* nsight* *nvvm*\n",
        "!apt-get autoremove --purge -V\n",
        "!wget https://developer.download.nvidia.com/compute/cuda/repos/ubuntu2204/x86_64/cuda-ubuntu2204.pin\n",
        "!mv cuda-ubuntu2204.pin /etc/apt/preferences.d/cuda-repository-pin-600\n",
        "!wget https://developer.download.nvidia.com/compute/cuda/11.8.0/local_installers/cuda-repo-ubuntu2204-11-8-local_11.8.0-520.61.05-1_amd64.deb\n",
        "!dpkg -i cuda-repo-ubuntu2204-11-8-local_11.8.0-520.61.05-1_amd64.deb\n",
        "!cp /var/cuda-repo-ubuntu2204-11-8-local/cuda-*-keyring.gpg /usr/share/keyrings/\n",
        "!apt-get update\n",
        "!apt-get -y install cuda\n",
        "!rm /content/cuda-repo-ubuntu2204-11-8-local_11.8.0-520.61.05-1_amd64.deb\n",
        "!export CUDA_PATH=/usr/local/cuda-10.8/\n",
        "!nvcc --version"
      ],
      "metadata": {
        "id": "P4xL0ezWIvf7"
      },
      "execution_count": null,
      "outputs": []
    },
    {
      "cell_type": "code",
      "execution_count": null,
      "metadata": {
        "id": "1kGoezGNYotZ"
      },
      "outputs": [],
      "source": [
        "!pip install -q condacolab\n",
        "import condacolab\n",
        "condacolab.install()\n",
        "!conda --version\n",
        "!git clone --recurse-submodules https://github.com/microsoft/TRELLIS.git\n",
        "%cd TRELLIS\n",
        "!./setup.sh --new-env --basic --xformers --diffoctreerast --spconv --mipgaussian --kaolin --nvdiffrast --demo\n",
        "!sed -i \"5i os.environ['ATTN_BACKEND'] = 'xformers'\" app.py\n",
        "!sed -i 's/    demo.launch()/    demo.launch(share=True)/g' app.py"
      ]
    },
    {
      "cell_type": "code",
      "execution_count": null,
      "metadata": {
        "id": "eU45EkJyeJdn"
      },
      "outputs": [],
      "source": [
        "%cd /content/TRELLIS/\n",
        "!python app.py"
      ]
    }
  ],
  "metadata": {
    "accelerator": "GPU",
    "colab": {
      "gpuType": "T4",
      "provenance": []
    },
    "kernelspec": {
      "display_name": "Python 3",
      "name": "python3"
    },
    "language_info": {
      "name": "python"
    }
  },
  "nbformat": 4,
  "nbformat_minor": 0
}
